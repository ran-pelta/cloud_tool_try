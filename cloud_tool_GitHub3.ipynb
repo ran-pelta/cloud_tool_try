{
 "cells": [
  {
   "cell_type": "code",
   "execution_count": null,
   "metadata": {
    "ExecuteTime": {
     "end_time": "2022-05-17T06:22:58.735350Z",
     "start_time": "2022-05-17T06:22:50.192808Z"
    }
   },
   "outputs": [],
   "source": [
    "from IPython.core.display import display, HTML,clear_output, Image\n",
    "import ipywidgets as widgets\n",
    "import rasterio\n",
    "import glob\n",
    "import pandas as pd\n",
    "import geopandas as gpd\n",
    "from shapely.geometry import Point\n",
    "import matplotlib.pyplot as plt\n",
    "import warnings\n",
    "warnings.filterwarnings(\"ignore\")"
   ]
  },
  {
   "cell_type": "code",
   "execution_count": null,
   "metadata": {
    "ExecuteTime": {
     "end_time": "2022-05-17T06:23:05.740272Z",
     "start_time": "2022-05-17T06:22:58.741839Z"
    }
   },
   "outputs": [],
   "source": [
    "def plot_location(df_c,df_o,lat,lon):\n",
    "    c_df = df_c[df_c.intersects(Point(lon,lat))].copy()\n",
    "    if len(c_df)!=0:\n",
    "        c = c_df['CNTRY_NAME'].tolist()[0]\n",
    "        display(HTML(f'<h3><left>The corrdinates are in {c}</left></h3>'))\n",
    "        c_df['geometry'].plot(figsize=(5,5))\n",
    "        plt.show(plt.scatter(lon,lat,color='r',s=200))\n",
    "    else:\n",
    "        o_df = df_o[df_o.intersects(Point(lon,lat))].copy()\n",
    "        if len(o_df)!=0:\n",
    "            o = o_df['name'].tolist()[0]\n",
    "            display(HTML(f'<h2 style=\"background-color:powderblue;\"><left>oops.. your coordinates are in the {o}</left></h2>'))\n",
    "            display(Image(filename=\"fish.png\"))\n",
    "            return 0\n",
    "        else:\n",
    "            display(HTML('<h2 style=\"background-color:red;\"><left>unknown country, your coordinates do not make any sense :)  please check again the coordinates</left></h2>'))\n",
    "            display(Image(filename=\"stop_sign.png\"))\n",
    "            return 0\n",
    "        \n",
    "\n",
    "        \n",
    "# def get_cc_per_band(r,lat,lon,i):\n",
    "#     # https://gis.stackexchange.com/questions/221292/retrieve-pixel-value-with-geographic-coordinate-as-input-with-gdal\n",
    "\n",
    "#     band = r.GetRasterBand(i)\n",
    "\n",
    "#     cols = r.RasterXSize\n",
    "#     rows = r.RasterYSize\n",
    "\n",
    "#     transform = r.GetGeoTransform()\n",
    "\n",
    "#     xOrigin = transform[0]\n",
    "#     yOrigin = transform[3]\n",
    "#     pixelWidth = transform[1]\n",
    "#     pixelHeight = -transform[5]\n",
    "\n",
    "#     data = band.ReadAsArray(0, 0, cols, rows)\n",
    "\n",
    "#     point = (lon, lat)\n",
    "\n",
    "#     col = int((point[0] - xOrigin) / pixelWidth)\n",
    "#     row = int((yOrigin - point[1] ) / pixelHeight)\n",
    "\n",
    "#     return data[row][col]\n",
    "\n",
    "\n",
    "\n",
    "# def get_cloud_cover(lat,lon,raster_path,status):\n",
    "#     if status!=0:\n",
    "# #         r = rasterio.open(raster_path)\n",
    "        \n",
    "#         driver = gdal.GetDriverByName('GTiff')\n",
    "#         r = gdal.Open(raster_path)\n",
    "    \n",
    "#         cc = [get_cc_per_band(r,lat,lon,i+1) for i in range(r.RasterCount)]\n",
    "#         dates = pd.date_range(start='2019-06-01', end='2022-04-01', freq='MS')   \n",
    "#         df = pd.DataFrame([dates,cc],index=['Date','Cloud Cover']).T\n",
    "#         df['Cloud Cover'] = df['Cloud Cover'].astype('int')\n",
    "#         return df\n",
    "#     else:\n",
    "#         return 0\n",
    "\n",
    "\n",
    "\n",
    "def get_cloud_cover(lat,lon,i,status):\n",
    "    if status!=0:\n",
    "        r = rasterio.open(i)\n",
    "        cc = r.read(1)[r.index(lon,lat)]\n",
    "        return {'Date':pd.to_datetime(i.split('_')[5]),\n",
    "                'Cloud Cover': round(100*cc)}\n",
    "    else:\n",
    "        return 0\n",
    "\n",
    "\n",
    "\n",
    "\n",
    "\n",
    "\n",
    "def plot_results(df,status):\n",
    "    if status!=0:\n",
    "        plt.figure(figsize=(15,5))\n",
    "        plt.plot(df['Date'],df['Cloud Cover'],'o-')\n",
    "        plt.ylim(0,100)\n",
    "        plt.xticks(rotation=90, size=17) \n",
    "        plt.yticks(size=17)\n",
    "        plt.ylabel('Cloud Cover %',size=20)\n",
    "        plt.axhline(y=60, color='r', linestyle='-')\n",
    "        plt.title('how much (at 10:30 AM local time on average) of that pixel (10X10km) was covered by clouds per month', size=15)\n",
    "        plt.grid();\n",
    "    else:\n",
    "        print('no data')\n",
    "        \n",
    "        \n",
    "raster_path = r\"C:\\Manna\\general\\cloud_tool\\global_cloud_cover_2020_2022_int.tiff\"\n",
    "df_countries = gpd.read_file(\"countries.geojson\")\n",
    "df_oceans = gpd.read_file(\"Oceans_bounderies.geojson\")"
   ]
  },
  {
   "cell_type": "code",
   "execution_count": null,
   "metadata": {
    "ExecuteTime": {
     "end_time": "2022-05-17T06:23:05.805650Z",
     "start_time": "2022-05-17T06:23:05.743856Z"
    }
   },
   "outputs": [],
   "source": [
    "display(HTML('<h1><left>Global Cloud Tool</left></h1>'))\n",
    "display(HTML('<h4><left>Check cloud cover per coordinates</left></h4>'))\n",
    "Image(filename=\"clouds.png\")#,width=200\n",
    "rasters_list = glob.glob('*TIFF*')"
   ]
  },
  {
   "cell_type": "code",
   "execution_count": null,
   "metadata": {
    "ExecuteTime": {
     "end_time": "2022-05-17T06:23:05.818226Z",
     "start_time": "2022-05-17T06:23:05.810065Z"
    }
   },
   "outputs": [],
   "source": [
    "# !jupyter nbextension enable --py widgetsnbextension --sys-prefix"
   ]
  },
  {
   "cell_type": "code",
   "execution_count": null,
   "metadata": {
    "ExecuteTime": {
     "end_time": "2022-05-17T06:23:05.835017Z",
     "start_time": "2022-05-17T06:23:05.824883Z"
    }
   },
   "outputs": [],
   "source": [
    "# !jupyter serverextension enable voila --sys-prefix"
   ]
  },
  {
   "cell_type": "code",
   "execution_count": null,
   "metadata": {
    "ExecuteTime": {
     "end_time": "2022-05-17T06:23:05.852698Z",
     "start_time": "2022-05-17T06:23:05.838832Z"
    }
   },
   "outputs": [],
   "source": [
    "name = widgets.Text(placeholder='Please enter coordinates (lat,lon)')"
   ]
  },
  {
   "cell_type": "code",
   "execution_count": null,
   "metadata": {
    "ExecuteTime": {
     "end_time": "2022-05-17T06:23:05.877237Z",
     "start_time": "2022-05-17T06:23:05.854512Z"
    }
   },
   "outputs": [],
   "source": [
    "button_send = widgets.Button(\n",
    "                description='Submit',\n",
    "                tooltip='Send',\n",
    "                style={'description_width': 'initial'}\n",
    "            )\n",
    "\n",
    "output = widgets.Output()\n",
    "\n",
    "def on_button_clicked(event):\n",
    "    with output:\n",
    "        clear_output()\n",
    "        lat,lon = float(name.value.split(',')[0]),float(name.value.split(',')[1])\n",
    "        status = plot_location(df_countries,df_oceans,lat,lon)\n",
    "#         plt.show(plt.scatter(lon,lat,color='r',s=200))\n",
    "        plt.show(plot_results(pd.DataFrame([get_cloud_cover(lat,lon,i,status) for i in rasters_list]),status))\n",
    "\n",
    "button_send.on_click(on_button_clicked)\n",
    "\n",
    "vbox_result = widgets.VBox([button_send, output])"
   ]
  },
  {
   "cell_type": "code",
   "execution_count": null,
   "metadata": {
    "ExecuteTime": {
     "end_time": "2022-05-17T06:23:05.906360Z",
     "start_time": "2022-05-17T06:23:05.879761Z"
    }
   },
   "outputs": [],
   "source": [
    "text_1 = widgets.HTML(value=\"<h4>Please enter coordinates (lat,lon)</h4>\")\n",
    "vbox_text = widgets.VBox([text_1,name,vbox_result])"
   ]
  },
  {
   "cell_type": "code",
   "execution_count": null,
   "metadata": {
    "ExecuteTime": {
     "end_time": "2022-05-17T06:23:05.934846Z",
     "start_time": "2022-05-17T06:23:05.909626Z"
    }
   },
   "outputs": [],
   "source": [
    "page = widgets.HBox([vbox_text])\n",
    "display(page)"
   ]
  },
  {
   "cell_type": "code",
   "execution_count": null,
   "metadata": {},
   "outputs": [],
   "source": []
  }
 ],
 "metadata": {
  "kernelspec": {
   "display_name": "voila4",
   "language": "python",
   "name": "voila4"
  },
  "language_info": {
   "codemirror_mode": {
    "name": "ipython",
    "version": 3
   },
   "file_extension": ".py",
   "mimetype": "text/x-python",
   "name": "python",
   "nbconvert_exporter": "python",
   "pygments_lexer": "ipython3",
   "version": "3.7.13"
  },
  "toc": {
   "base_numbering": 1,
   "nav_menu": {},
   "number_sections": true,
   "sideBar": true,
   "skip_h1_title": false,
   "title_cell": "Table of Contents",
   "title_sidebar": "Contents",
   "toc_cell": false,
   "toc_position": {},
   "toc_section_display": true,
   "toc_window_display": false
  },
  "varInspector": {
   "cols": {
    "lenName": 16,
    "lenType": 16,
    "lenVar": 40
   },
   "kernels_config": {
    "python": {
     "delete_cmd_postfix": "",
     "delete_cmd_prefix": "del ",
     "library": "var_list.py",
     "varRefreshCmd": "print(var_dic_list())"
    },
    "r": {
     "delete_cmd_postfix": ") ",
     "delete_cmd_prefix": "rm(",
     "library": "var_list.r",
     "varRefreshCmd": "cat(var_dic_list()) "
    }
   },
   "types_to_exclude": [
    "module",
    "function",
    "builtin_function_or_method",
    "instance",
    "_Feature"
   ],
   "window_display": false
  }
 },
 "nbformat": 4,
 "nbformat_minor": 4
}
